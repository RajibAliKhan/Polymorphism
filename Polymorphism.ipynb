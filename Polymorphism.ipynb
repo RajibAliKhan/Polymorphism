{
 "cells": [
  {
   "cell_type": "code",
   "execution_count": null,
   "id": "422c1c6b-35e8-45d7-b0f6-2bbec445f17d",
   "metadata": {},
   "outputs": [],
   "source": [
    "# Polymorphism means one material having multiple behaviour in different situation"
   ]
  },
  {
   "cell_type": "code",
   "execution_count": 7,
   "id": "b089264f-5ff7-498c-ba0f-f6667cbfdba3",
   "metadata": {},
   "outputs": [],
   "source": [
    "def test(a,b) :\n",
    "    return(a + b)"
   ]
  },
  {
   "cell_type": "code",
   "execution_count": 8,
   "id": "3b23fc6e-1164-4470-a45d-76820a9f4d2f",
   "metadata": {},
   "outputs": [
    {
     "data": {
      "text/plain": [
       "7"
      ]
     },
     "execution_count": 8,
     "metadata": {},
     "output_type": "execute_result"
    }
   ],
   "source": [
    "test(3,4)"
   ]
  },
  {
   "cell_type": "code",
   "execution_count": 5,
   "id": "4454bdd5-c21c-484f-9c4e-92777b5a695c",
   "metadata": {},
   "outputs": [
    {
     "data": {
      "text/plain": [
       "'rajibkhan'"
      ]
     },
     "execution_count": 5,
     "metadata": {},
     "output_type": "execute_result"
    }
   ],
   "source": [
    "test(\"rajib\" , \"khan\")"
   ]
  },
  {
   "cell_type": "code",
   "execution_count": 6,
   "id": "7110dd5a-e660-4320-b2d5-0c8425de1d5f",
   "metadata": {},
   "outputs": [
    {
     "data": {
      "text/plain": [
       "[1, 2, 3, 4, 5, 6, 7, 8, 9, 10]"
      ]
     },
     "execution_count": 6,
     "metadata": {},
     "output_type": "execute_result"
    }
   ],
   "source": [
    "test([1,2,3,4,5],[6,7,8,9,10])"
   ]
  },
  {
   "cell_type": "code",
   "execution_count": 10,
   "id": "7854b1df-f11b-4a61-bdf8-ee4db478eb19",
   "metadata": {},
   "outputs": [],
   "source": [
    "class data_science :\n",
    "    def syllabus(self) :\n",
    "        print('this is my syllabus for data science masters')"
   ]
  },
  {
   "cell_type": "code",
   "execution_count": 11,
   "id": "5dedd20c-aa64-48e0-9749-97fc4c2ab2ab",
   "metadata": {},
   "outputs": [],
   "source": [
    "class web_dev :\n",
    "    def syllabus(self):\n",
    "        print('this is my syllabus of web dev')"
   ]
  },
  {
   "cell_type": "code",
   "execution_count": 12,
   "id": "bedb3995-d320-4e2f-9607-ede43c6bd11a",
   "metadata": {},
   "outputs": [],
   "source": [
    "def class_parcer(class_obj) :\n",
    "    for i in class_obj :\n",
    "        i.syllabus()"
   ]
  },
  {
   "cell_type": "code",
   "execution_count": 13,
   "id": "733dcb45-c4ec-42ce-aa50-3f565b8a4268",
   "metadata": {},
   "outputs": [],
   "source": [
    "data_science = data_science()"
   ]
  },
  {
   "cell_type": "code",
   "execution_count": 14,
   "id": "c2e257a5-03f0-4c60-9817-7b27450c32cd",
   "metadata": {},
   "outputs": [],
   "source": [
    "web_dev = web_dev()"
   ]
  },
  {
   "cell_type": "code",
   "execution_count": 15,
   "id": "1f86380f-cd6b-4df1-bc6b-1b798570cad8",
   "metadata": {},
   "outputs": [],
   "source": [
    "class_obj = [data_science, web_dev]"
   ]
  },
  {
   "cell_type": "code",
   "execution_count": 16,
   "id": "4091a41e-0587-4805-80f1-e6c555a92d61",
   "metadata": {},
   "outputs": [
    {
     "name": "stdout",
     "output_type": "stream",
     "text": [
      "this is my syllabus for data science masters\n",
      "this is my syllabus of web dev\n"
     ]
    }
   ],
   "source": [
    "class_parcer(class_obj)"
   ]
  },
  {
   "cell_type": "code",
   "execution_count": 21,
   "id": "5d6251f7-7ea7-4d21-860c-6e3b0d3f5ea7",
   "metadata": {},
   "outputs": [],
   "source": [
    "class car :\n",
    "    def info(self) :\n",
    "        print('This is best car')\n",
    "class home :\n",
    "    def info(self) :\n",
    "        print('This is best home')\n",
    "def money(money_buy) :\n",
    "    for i in money_buy :\n",
    "        i.info()    "
   ]
  },
  {
   "cell_type": "code",
   "execution_count": 22,
   "id": "c79f27a1-a18d-468f-85cd-6d07eda0210b",
   "metadata": {},
   "outputs": [],
   "source": [
    "car = car()\n",
    "home = home()\n",
    "money_buy = [car, home]"
   ]
  },
  {
   "cell_type": "code",
   "execution_count": 23,
   "id": "52e5937b-d560-4f85-b95b-eb517e1bf360",
   "metadata": {},
   "outputs": [
    {
     "name": "stdout",
     "output_type": "stream",
     "text": [
      "This is best car\n",
      "This is best home\n"
     ]
    }
   ],
   "source": [
    "money(money_buy)"
   ]
  },
  {
   "cell_type": "code",
   "execution_count": 30,
   "id": "742253a9-660b-4b68-92e8-f63c73fc299c",
   "metadata": {},
   "outputs": [],
   "source": [
    "class country :\n",
    "    def name(self) :\n",
    "        print('my country name is India.')\n",
    "class state :\n",
    "    def name(self) :\n",
    "        print('my state name is West Bengal.')\n",
    "def district(all_info) :\n",
    "    for i in all_info :\n",
    "        i.name()"
   ]
  },
  {
   "cell_type": "code",
   "execution_count": 31,
   "id": "e0ea8cde-e423-46e1-8903-0eb8cb876726",
   "metadata": {},
   "outputs": [],
   "source": [
    "country = country()\n",
    "state = state()\n",
    "all_info = [country, state]"
   ]
  },
  {
   "cell_type": "code",
   "execution_count": 32,
   "id": "15ee4a37-7d19-406b-9957-67127658213f",
   "metadata": {},
   "outputs": [
    {
     "name": "stdout",
     "output_type": "stream",
     "text": [
      "my country name is India.\n",
      "my state name is West Bengal.\n"
     ]
    }
   ],
   "source": [
    "district(all_info)"
   ]
  },
  {
   "cell_type": "code",
   "execution_count": 33,
   "id": "1d7f43ac-2490-40ba-827c-a0475479f9c4",
   "metadata": {},
   "outputs": [],
   "source": [
    "class company :\n",
    "    def name(self) :\n",
    "        print('the comapany name is XYZ.')\n",
    "class position :\n",
    "    def name(self) :\n",
    "        print('the position name is Data Scientist.')\n",
    "def employee(employee_info) :\n",
    "    for i in employee_info :\n",
    "        i.name()\n",
    "    "
   ]
  },
  {
   "cell_type": "code",
   "execution_count": 34,
   "id": "ac1f9a36-7e5c-4562-8926-f0f2f7ac93d7",
   "metadata": {},
   "outputs": [],
   "source": [
    "company = company()\n",
    "position = position()\n",
    "employee_info = [company, position]"
   ]
  },
  {
   "cell_type": "code",
   "execution_count": 35,
   "id": "25cab007-2875-49fb-8580-f2b9be11e107",
   "metadata": {},
   "outputs": [
    {
     "name": "stdout",
     "output_type": "stream",
     "text": [
      "the comapany name is XYZ.\n",
      "the position name is Data Scientist.\n"
     ]
    }
   ],
   "source": [
    "employee(employee_info)"
   ]
  },
  {
   "cell_type": "code",
   "execution_count": null,
   "id": "004bdfe8-4073-4997-afbb-8ce444a02a22",
   "metadata": {},
   "outputs": [],
   "source": []
  }
 ],
 "metadata": {
  "kernelspec": {
   "display_name": "Python 3 (ipykernel)",
   "language": "python",
   "name": "python3"
  },
  "language_info": {
   "codemirror_mode": {
    "name": "ipython",
    "version": 3
   },
   "file_extension": ".py",
   "mimetype": "text/x-python",
   "name": "python",
   "nbconvert_exporter": "python",
   "pygments_lexer": "ipython3",
   "version": "3.10.8"
  }
 },
 "nbformat": 4,
 "nbformat_minor": 5
}
